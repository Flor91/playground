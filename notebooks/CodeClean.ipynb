{
 "cells": [
  {
   "cell_type": "markdown",
   "metadata": {},
   "source": [
    "What Is Clean Code?\n",
    "I like my code to be elegant and efficient. The logic should be straightforward to make it hard for bugs to hide, the dependencies minimal to ease maintenance, error handling complete according to an articulated strategy, and performance close to optimal so as not to tempt people to make the code messy with unprincipled optimizations. Clean code does one thing well.\n",
    "Elegant: pleasingly graceful and stylish in appearance or manner; pleasingly ingenious and simple.\n",
    "Bad code tempts the mess to grow!\n",
    "Abbreviated error handling is just one way that programmers gloss over details. Memory leaks are another, race conditions still another.\n",
    "Inconsistent naming yet another. The upshot is that clean code exhibits close attention to detail.\n",
    "Bad code tries to do too much, it has muddled intent and ambiguity of purpose. Clean code is focused. Each function, each class, each module exposes a single-minded attitude that remains entirely undistracted, and unpolluted, by the surrounding details.\n",
    "\n",
    "\n",
    "Clean code is simple and direct. Clean code reads like well-written prose. Clean code never obscures the designer’s intent but rather is full of crisp abstractions and straightforward lines of control.\n",
    "Like a good novel, clean code should clearly expose the tensions in the problem to be solved.\n",
    "Crisp: briskly decisive and matter-of-fact, without hesitation or unnecessary detail.\n",
    "Our code should be matter-of-fact as opposed to speculative. It should contain only what is necessary.\n",
    "\n",
    "\n",
    "Clean code can be read, and enhanced by a developer other than its original author. It has unit and acceptance tests. It has meaningful names. It provides one way rather than many ways for doing one thing. It has minimal dependencies, which are explicitly defined, and provides a clear and minimal API. Code should be literate since depending on the language, not all necessary information can be expressed clearly in code alone.\n",
    "\n",
    "\n",
    "I could list all of the qualities that I notice in clean code, but there is one overarching quality that leads to all of them. Clean code always looks like it was written by someone who cares. There is nothing obvious that you can do to make it better. All of those things were thought about by the code’s author, and if you try to imagine improvements, you’re led back to where you are, sitting in appreciation of the code someone left for you—code left by someone who cares deeply about the craft.\n",
    "Clean code is code that has been taken care of. Someone has taken the time to keep it simple and orderly.\n",
    "\n",
    "They have paid appropriate attention to details.\n",
    "\n",
    "\n",
    "In priority order, simple code:\n",
    "• Runs all the tests;\n",
    "• Contains no duplication;\n",
    "• Expresses all the design ideas that are in the system;\n",
    "• Minimizes the number of entities such as classes, methods, functions, and the like.\n",
    "\n",
    "\n",
    "Of these, I focus mostly on duplication. When the same thing is done over and over, it’s a sign that there is an idea in our mind that is not well represented in the code. I try to figure out what it is. Then I try to express that idea more clearly.\n",
    "Expressiveness to me includes meaningful names, and I am likely to change the names of things several times before I settle in. With modern coding tools such as Eclipse, renaming is quite inexpensive, so it doesn’t trouble me to change. Expressiveness goes beyond names, however. I also look at whether an object or method is doing more than one thing. If it’s an object, it probably needs to be broken into two or more objects. If it’s a method, I will always use the Extract Method refactoring on it, resulting in one method that says more clearly what it does, and some submethods saying how it is done.\n",
    "Duplication and expressiveness take me a very long way into what I consider clean code, and improving dirty code with just these two things in mind can make a huge difference. \n",
    "There is, however, one other thing that I’m aware of doing, which is a bit harder to explain.\n",
    "After years of doing this work, it seems to me that all programs are made up of very similar elements. One example is “find things in a collection.” Whether we have a database of employee records, or a hash map of keys and values, or an array of items of some kind, we often find ourselves wanting a particular item from that collection. When I find that happening, I will often wrap the particular implementation in a more abstract method or class. That gives me a couple of interesting advantages. I can implement the functionality now with something simple, say a hash map, but since now all the references to that search are covered by my little abstraction, I can change the implementation any time I want. I can go forward quickly while preserving my ability to change later.\n",
    "In addition, the collection abstraction often calls my attention to what’s “really” going on, and keeps me from running down the path of implementing arbitrary collection behavior when all I really need is a few fairly simple ways of finding what I want.\n",
    "Reduced duplication, high expressiveness, and early building of simple abstractions.\n",
    "That’s what makes clean code for me.\n",
    "\n",
    "\n",
    "You know you are working on clean code when each routine you read turns out to be pretty much what you expected. You can call it beautiful code when the code also makes it look like the language was made for the problem."
   ]
  }
 ],
 "metadata": {
  "kernelspec": {
   "display_name": "Python 3",
   "language": "python",
   "name": "python3"
  },
  "language_info": {
   "codemirror_mode": {
    "name": "ipython",
    "version": 3
   },
   "file_extension": ".py",
   "mimetype": "text/x-python",
   "name": "python",
   "nbconvert_exporter": "python",
   "pygments_lexer": "ipython3",
   "version": "3.6.5"
  }
 },
 "nbformat": 4,
 "nbformat_minor": 2
}
