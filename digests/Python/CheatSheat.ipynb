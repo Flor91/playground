{
 "cells": [
  {
   "attachments": {},
   "cell_type": "markdown",
   "metadata": {},
   "source": [
    "# Caracteristicas de Python\n",
    "- Todo es un objeto\n",
    "- Dinamicamente tipado: Se determina el tipo en tiempo de ejecucion\n",
    "- Se maneja por identacion. Configurar editores para que usen 4 espacios en vez de tab"
   ]
  },
  {
   "attachments": {},
   "cell_type": "markdown",
   "metadata": {},
   "source": [
    "## Instalación de paquetes\n",
    "\n",
    "- La unica vez que pueden instalar algo con python-XXX\n",
    "> sudo apt-get install python-setuptools python-dev\n",
    "\n",
    "- muchos paquetes tienen dependencias de librerias en C que necesitan compilarse\n",
    "> sudo apt-get install build-essential\n",
    "\n",
    "- numpy, scipy, pandas, etc...\n",
    "> sudo apt-get install libblas-dev liblapack-dev libatlas-base-dev gfortran\n",
    "\n",
    "- ahora si pueden usar pip (tomen un cafe porque tarda un rato en compilar algunas cosas la primer vez que lo instalan)\n",
    "> pip install numpy\n",
    "> pip install scipy\n",
    "> pip install pandas\n"
   ]
  },
  {
   "cell_type": "markdown",
   "metadata": {},
   "source": [
    "## Tipos Bases\n",
    "- Enteros (int)\n",
    "- Reales (float)\n",
    "- Booleanos (bool)\n",
    "- Strings (string)\n",
    "\n",
    "### Strings\n",
    "\n",
    "Escape characters:\n",
    "\\' Single quote\n",
    "\\\" Double quote\n",
    "\\t Tab\n",
    "\\n Newline (line break)\n",
    "\\\\ Backslash\n",
    "\n",
    "You can place an r before the beginning quotation mark of a string to make it a raw string. A raw string completely ignores all escape characters and prints any backslash that appears in the string.\n",
    "\n",
    "Useful methods:\n",
    "- upper(), lower(), isupper(), and islower() \n",
    "- isalpha() returns True if the string consists only of letters and is not blank.\n",
    "- isalnum() returns True if the string consists only of letters and numbers and is not blank.\n",
    "- isdecimal() returns True if the string consists only of numeric characters and is not blank.\n",
    "- isspace() returns True if the string consists only of spaces, tabs, and new-lines and is not blank.\n",
    "- istitle() returns True if the string consists only of words that begin with an uppercase letter followed by only lowercase letters.\n",
    "- startswith() and endswith() methods return True if the string value they are called on begins or ends (respectively) with the string passed to the method; otherwise, they return False.\n",
    "- join() method is useful when you have a list of strings that need to be joined together into a single string value. The - join() method is called on a string, gets passed a list of strings, and returns a string. The returned string is the concatenation of each string in the passed-in list.\n",
    "- split() method does the opposite: It’s called on a string value and returns a list of strings. You can pass a delimiter string to the split() method to specify a different string to split upon. By default is whitespaces.\n",
    "- Removing Whitespace with strip(), rstrip(), and lstrip()\n",
    "- pyperclip module has copy() and paste() functions that can send text to and receive text from your computer’s clipboard. Sending the output of your program to the clipboard will make it easy to paste it to an email, word processor, or some other software."
   ]
  },
  {
   "cell_type": "code",
   "execution_count": 38,
   "metadata": {},
   "outputs": [
    {
     "name": "stdout",
     "output_type": "stream",
     "text": [
      "That is Carol\\'s cat.\n",
      "Dear Alice,\n",
      "\n",
      "Eve's cat has been arrested for catnapping, cat burglary, and extortion.\n",
      "\n",
      "Sincerely,\n",
      "Bob\n",
      "MyABCnameABCisABCSimon\n",
      "True\n",
      "     Hello\n",
      "***************Hello\n",
      "=======Hello========\n",
      "Hello-----\n"
     ]
    },
    {
     "ename": "ModuleNotFoundError",
     "evalue": "No module named 'pyperclip'",
     "output_type": "error",
     "traceback": [
      "\u001b[1;31m--------------------------------------------------------------------\u001b[0m",
      "\u001b[1;31mModuleNotFoundError\u001b[0m                Traceback (most recent call last)",
      "\u001b[1;32m<ipython-input-38-2cb92a52e81d>\u001b[0m in \u001b[0;36m<module>\u001b[1;34m()\u001b[0m\n\u001b[0;32m     20\u001b[0m \u001b[0mprint\u001b[0m\u001b[1;33m(\u001b[0m\u001b[1;34m'Hello'\u001b[0m\u001b[1;33m.\u001b[0m\u001b[0mljust\u001b[0m\u001b[1;33m(\u001b[0m\u001b[1;36m10\u001b[0m\u001b[1;33m,\u001b[0m \u001b[1;34m'-'\u001b[0m\u001b[1;33m)\u001b[0m\u001b[1;33m)\u001b[0m\u001b[1;33m\u001b[0m\u001b[0m\n\u001b[0;32m     21\u001b[0m \u001b[1;33m\u001b[0m\u001b[0m\n\u001b[1;32m---> 22\u001b[1;33m \u001b[1;32mimport\u001b[0m \u001b[0mpyperclip\u001b[0m\u001b[1;33m\u001b[0m\u001b[0m\n\u001b[0m\u001b[0;32m     23\u001b[0m \u001b[0mpyperclip\u001b[0m\u001b[1;33m.\u001b[0m\u001b[0mcopy\u001b[0m\u001b[1;33m(\u001b[0m\u001b[1;34m'Hello world!'\u001b[0m\u001b[1;33m)\u001b[0m\u001b[1;33m\u001b[0m\u001b[0m\n\u001b[0;32m     24\u001b[0m \u001b[0mpyperclip\u001b[0m\u001b[1;33m.\u001b[0m\u001b[0mpaste\u001b[0m\u001b[1;33m(\u001b[0m\u001b[1;33m)\u001b[0m\u001b[1;33m\u001b[0m\u001b[0m\n",
      "\u001b[1;31mModuleNotFoundError\u001b[0m: No module named 'pyperclip'"
     ]
    }
   ],
   "source": [
    "# Raw strings:\n",
    "print(r'That is Carol\\'s cat.')\n",
    "\n",
    "# Multiline:\n",
    "print('''Dear Alice,\n",
    "\n",
    "Eve's cat has been arrested for catnapping, cat burglary, and extortion.\n",
    "\n",
    "Sincerely,\n",
    "Bob''')\n",
    "\n",
    "print('ABC'.join(['My', 'name', 'is', 'Simon']))\n",
    "\n",
    "print('Hello' in 'Hello world')\n",
    "\n",
    "# Justificar texto:\n",
    "print('Hello'.rjust(10))\n",
    "print('Hello'.rjust(20, '*'))\n",
    "print('Hello'.center(20, '='))\n",
    "print('Hello'.ljust(10, '-'))\n",
    "\n",
    "# import pyperclip\n",
    "# pyperclip.copy('Hello world!')\n",
    "# pyperclip.paste()"
   ]
  },
  {
   "cell_type": "markdown",
   "metadata": {},
   "source": [
    "### Regular Expresions\n",
    "\n",
    "Passing a string value representing your regular expression to **re.compile()** returns a Regex pattern object (or simply, a Regex object).\n",
    "\n",
    "A Regex object’s **search()** method searches the string it is passed for any matches to the regex. The search() method will return None if the regex pattern is not found in the string. If the pattern is found, the search() method returns a Match object. \n",
    "\n",
    "Match objects have a **group()** method that will return the actual matched text from the searched string.\n",
    "\n",
    "Regex tester:\n",
    "http://regexpal.com/\n",
    "\n",
    "The | character is called a **pipe**. You can use it anywhere you want to match one of many expressions. For example, the regular expression r'Batman|Tina Fey' will match either 'Batman' or 'Tina Fey'.\n",
    "\n",
    "When both Batman and Tina Fey occur in the searched string, the first occurrence of matching text will be returned as the Match object. You can find all matching occurrences with the findall() method.\n",
    "\n",
    "The **?** character flags the group that precedes it as an optional part of the pattern. Note that the question mark can have two meanings in regular expressions: declaring a nongreedy match or flagging an optional group.\n",
    "\n",
    "The ***** (called the star or asterisk) means “match zero or more”—the group that precedes the star can occur any number of times in the text. It can be completely absent or repeated over and over again.\n",
    "\n",
    "The **+** (or plus) means “match one or more.” \n",
    "\n",
    "**Repetitions**: If you have a group that you want to repeat a specific number of times, follow the group in your regex with a number in curly brackets. For example, the regex (Ha){3} will match the string 'HaHaHa', but it will not match 'HaHa'.\n",
    "You can also leave out the first or second number in the curly brackets to leave the minimum or maximum unbounded. For example, (Ha){3,} will match three or more instances of the (Ha) group, while (Ha){,5} will match zero to five instances. \n",
    "\n",
    "Python’s regular expressions are greedy by default, which means that in ambiguous situations they will match the longest string possible. The non-greedy version of the curly brackets, which matches the shortest string possible, has the closing curly bracket followed by a question mark.\n",
    "\n",
    "#### Character classes\n",
    "\n",
    "\\d: Any numeric digit from 0 to 9.\n",
    "\\D: Any character that is not a numeric digit from 0 to 9.\n",
    "\\w: Any letter, numeric digit, or the underscore character. (Think of this as matching “word” characters.)\n",
    "\\W: Any character that is not a letter, numeric digit, or the underscore character.\n",
    "\\s: Any space, tab, or newline character. (Think of this as matching “space” characters.)\n",
    "\\S: Any character that is not a space, tab, or newline.\n",
    "\n",
    "- The character class [0-5] will match only the numbers 0 to 5\n",
    "- The character class [a-zA-Z0-9] will match all lowercase letters, uppercase letters, and numbers.\n",
    "- By placing a caret character (^) just after the character class’s opening bracket, you can make a negative character class. A negative character class will match all the characters that are not in the character class. re.compile(r'[^aeiouAEIOU]')\n",
    "\n",
    "- You can also use the caret symbol (^) at the start of a regex to indicate that a match must occur at the beginning of the searched text. Likewise, you can put a dollar sign ($) at the end of the regex to indicate the string must end with this regex pattern (r'^Hello' regular expression string matches strings that begin with 'Hello')\n",
    "\n",
    "- The . (or dot) character in a regular expression is called a wildcard and will match any **one** character except for a newline.\n",
    "\n",
    "- You can use the dot-star (.*) to stand in for that “anything.”\n",
    "\n",
    "- The dot-star will match everything except a newline. By passing re.DOTALL as the second argument to re.compile(), you can make the dot character match all characters, including the newline character.\n",
    "\n",
    "\n",
    "Resumen: \n",
    "The ? matches zero or one of the preceding group.\n",
    "\n",
    "The * matches zero or more of the preceding group.\n",
    "\n",
    "The + matches one or more of the preceding group.\n",
    "\n",
    "The {n} matches exactly n of the preceding group.\n",
    "\n",
    "The {n,} matches n or more of the preceding group.\n",
    "\n",
    "The {,m} matches 0 to m of the preceding group.\n",
    "\n",
    "The {n,m} matches at least n and at most m of the preceding group.\n",
    "\n",
    "{n,m}? or *? or +? performs a nongreedy match of the preceding group.\n",
    "\n",
    "^spam means the string must begin with spam.\n",
    "\n",
    "spam$ means the string must end with spam.\n",
    "\n",
    "The . matches any character, except newline characters.\n",
    "\n",
    "\\d, \\w, and \\s match a digit, word, or space character, respectively.\n",
    "\n",
    "\\D, \\W, and \\S match anything except a digit, word, or space character, respectively.\n",
    "\n",
    "[abc] matches any character between the brackets (such as a, b, or c).\n",
    "\n",
    "[^abc] matches any character that isn’t between the brackets.\n",
    "\n",
    "---\n",
    "\n",
    "- To make your regex case-insensitive, you can pass re.IGNORECASE or re.I as a second argument to re.compile(). \n",
    "- The sub() method for Regex objects is passed two arguments. The first argument is a string to replace any matches. The second is the string for the regular expression. The sub() method returns a string with the substitutions applied."
   ]
  },
  {
   "cell_type": "code",
   "execution_count": 41,
   "metadata": {},
   "outputs": [
    {
     "name": "stdout",
     "output_type": "stream",
     "text": [
      "Phone number found: 415-555-4242\n"
     ]
    },
    {
     "data": {
      "text/plain": [
       "'Batman'"
      ]
     },
     "execution_count": 41,
     "metadata": {},
     "output_type": "execute_result"
    }
   ],
   "source": [
    "import re\n",
    "\n",
    "phoneNumRegex = re.compile(r'\\d\\d\\d-\\d\\d\\d-\\d\\d\\d\\d')\n",
    "mo = phoneNumRegex.search('My number is 415-555-4242.')\n",
    "print('Phone number found: ' + mo.group())\n",
    "\n",
    "# Grouping with parenthesis\n",
    "phoneNumRegex = re.compile(r'(\\d\\d\\d)-(\\d\\d\\d-\\d\\d\\d\\d)')\n",
    "mo = phoneNumRegex.search('My number is 415-555-4242.')\n",
    "mo.group(1) # '415'\n",
    "mo.group(2) # '355-4242'\n",
    "mo.group(0) # '415-555-4242'\n",
    "mo.group() # '415-555-4242'\n",
    "\n",
    "mo.groups() # ('415', '555-4242')\n",
    "areaCode, mainNumber = mo.groups()\n",
    "\n",
    "# Pipe\n",
    "heroRegex = re.compile (r'Batman|Tina Fey')\n",
    "mo1 = heroRegex.search('Batman and Tina Fey.')\n",
    "mo1.group()\n",
    "\n",
    "batRegex = re.compile(r'Bat(wo)?man')\n",
    "mo1 = batRegex.search('The Adventures of Batman')\n",
    "mo1.group()\n",
    "\n",
    "batRegex = re.compile(r'Bat(wo)*man')\n",
    "mo1 = batRegex.search('The Adventures of Batman')\n",
    "mo1.group()\n",
    "\n",
    "\n",
    "xmasRegex = re.compile(r'\\d+\\s\\w+')\n",
    "xmasRegex.findall('12 drummers, 11 pipers, 10 lords, 9 ladies, 8 maids, 7 swans, 6 geese, 5 rings, 4 birds, 3 hens, 2 doves, 1 partridge')\n",
    "# ['12 drummers', '11 pipers', '10 lords', '9 ladies', '8 maids', '7 swans', '6 geese', '5 rings', '4 birds', '3 hens', '2 doves', '1 partridge']\n",
    "\n",
    "vowelRegex = re.compile(r'[aeiouAEIOU]')\n",
    "vowelRegex.findall('Robocop eats baby food. BABY FOOD.')\n",
    "# ['o', 'o', 'o', 'e', 'a', 'a', 'o', 'o', 'A', 'O', 'O']\n",
    "\n",
    "nameRegex = re.compile(r'First Name: (.*) Last Name: (.*)')\n",
    "mo = nameRegex.search('First Name: Al Last Name: Sweigart')\n",
    "\n",
    "namesRegex = re.compile(r'Agent \\w+')\n",
    "namesRegex.sub('CENSORED', 'Agent Alice gave the secret documents to Agent Bob.')\n",
    "# 'CENSORED gave the secret documents to CENSORED.'\n",
    "\n",
    "\n",
    "You can mitigate this by telling the re.compile() function to ignore whitespace and comments inside the regular expression string. This “verbose mode” can be enabled by passing the variable re.VERBOSE as the second argument to re.compile().\n",
    "\n",
    "Now instead of a hard-to-read regular expression like this:\n",
    "\n",
    "\n",
    "phoneRegex = re.compile(r'((\\d{3}|\\(\\d{3}\\))?(\\s|-|\\.)?\\d{3}(\\s|-|\\.)\\d{4}\n",
    "(\\s*(ext|x|ext.)\\s*\\d{2,5})?)')\n",
    "you can spread the regular expression over multiple lines with comments like this:\n",
    "\n",
    "\n",
    "phoneRegex = re.compile(r'''(\n",
    "    (\\d{3}|\\(\\d{3}\\))?            # area code\n",
    "    (\\s|-|\\.)?                    # separator\n",
    "    \\d{3}                         # first 3 digits\n",
    "    (\\s|-|\\.)                     # separator\n",
    "    \\d{4}                         # last 4 digits\n",
    "    (\\s*(ext|x|ext.)\\s*\\d{2,5})?  # extension\n",
    "    )''', re.VERBOSE)"
   ]
  },
  {
   "cell_type": "markdown",
   "metadata": {},
   "source": [
    "## Estructuras\n",
    "### Listas\n",
    "- Objeto mutable\n",
    "- Contienen cualquier tipo de variables\n",
    "- No tienen un máximo de elementos (mientras que entren en memoria)\n",
    "- Los valores se pueden repetir\n",
    "- Estan ordenados\n",
    "\n",
    "#### Slices\n",
    "Indices van del 0 al -1 y pueden omitirse:\n",
    "sublista = lista[inicio:fin:saltos]\n",
    "\n",
    "#### List Comprehension\n",
    "Para cada valor de un iterable (lista, set, dicc, tupla) se puede: \n",
    "    - filtrar\n",
    "    - aplicar una funcion"
   ]
  },
  {
   "cell_type": "code",
   "execution_count": null,
   "metadata": {},
   "outputs": [],
   "source": [
    "# Crear lista con valores\n",
    "lista = [1, 2, 3]\n",
    "# Agregar un valor\n",
    "lista.append(4)\n",
    "# Obtener un valor\n",
    "primero = lista[0]\n",
    "\n",
    "# Armar sublista\n",
    "list2 = lista[1:-2]\n",
    "\n",
    "# Recorrer lista\n",
    "for valor in lista:\n",
    "    print (valor)\n",
    "\n",
    "# Recorrer lista de tuplas:\n",
    "l = [('a', 1), ('b', 2), ('c', 3)] \n",
    "for letra, numero in l:\n",
    "    print (letra, numero)\n",
    "\n",
    "# List comprehension\n",
    "l2 = [value * 2 for value in lista if value < 5]\n",
    "\n",
    "# Imprime un diccionario a partir de una lista\n",
    "print ({x: x**2 for x in lista if x < 5})"
   ]
  },
  {
   "cell_type": "markdown",
   "metadata": {},
   "source": [
    "### Sets\n",
    "- **Conjuto** de elementos mutable\n",
    "- No se pueden repetir los valores (Si se intenta agregar un elemento que ya existe, se ignora)\n",
    "- No estan ordenados"
   ]
  },
  {
   "cell_type": "code",
   "execution_count": null,
   "metadata": {
    "slideshow": {
     "slide_type": "notes"
    }
   },
   "outputs": [],
   "source": [
    "# Crear set con valores\n",
    "set = set([1, 2, 3, 1, 2])\n",
    "# Agregar valor\n",
    "set.add(4)\n",
    "set.add(1)\n",
    "print(set)\n",
    "\n",
    "# Recurrer tupla\n",
    "for valor in set:\n",
    "    if valor == 1:\n",
    "        break\n",
    "    print valor\n"
   ]
  },
  {
   "cell_type": "markdown",
   "metadata": {},
   "source": [
    "### Diccionarios\n",
    "- Elementos Clave/Valor mutables\n",
    "- Las claves deben ser unicas\n",
    "- Cada clave puede contener una lista de valores"
   ]
  },
  {
   "cell_type": "code",
   "execution_count": null,
   "metadata": {},
   "outputs": [],
   "source": [
    "d = {'a': 1, 'b': 2, 'c': 3}\n",
    "print (d['a'])\n",
    "d['d'] = 4\n",
    "d.update({'e': 5, 'f': 6})\n",
    "d['a'] = 123\n",
    "print(d)\n",
    "\n",
    "# Recorrer diccionario por key\n",
    "for key in d:\n",
    "    value = d[key]\n",
    "    if value < 3:\n",
    "        continue\n",
    "\n",
    "for key, value in d.items():\n",
    "    if value < 3:\n",
    "        continue\n"
   ]
  },
  {
   "cell_type": "markdown",
   "metadata": {},
   "source": [
    "### Tuplas\n",
    "- Iterable inmutable parecido a la lista\n",
    "- No se pueden agregar nuevos elementos, ni modificar los existentes\n",
    "- Se pueden repetir los valores, y se piden por indice"
   ]
  },
  {
   "cell_type": "code",
   "execution_count": null,
   "metadata": {},
   "outputs": [],
   "source": [
    "t1 = ()\n",
    "t2 = (1, 2, 3)\n",
    "print (t1)\n",
    "print (t2[2])"
   ]
  },
  {
   "attachments": {},
   "cell_type": "markdown",
   "metadata": {},
   "source": [
    "## Bloques\n",
    "### If\n",
    "if (bool1 and bool2) or (not bool2):\n",
    "    print \"Entro...\"\n",
    "\n",
    "Todos los valores se evalúan a false:\n",
    "\n",
    "    Si es null, entonces evalua a false\n",
    "    Si es un string y es vacio, entonces evalúa false\n",
    "    Si es un número (entero o flotante) y es 0, entonces evalúa como false\n",
    "    Si es una lista/set/diccionario, entonces si esta vacio, entonces evalúa false\n",
    "    \n",
    "### For\n",
    "for i in range(0, 10):\n",
    "    for j in range(1, 15):\n",
    "        print i, j\n",
    "\n",
    "- En python el FOR itera sobre iterables (lista, set, diccionario, tuplas, generadores, etc..)\n",
    "- Para hacer un for que se repita una cantidad limitada de veces, entonces tenemos que usar la funcion xrange(0, X) donde X es la cantidad de veces que se ejecute el mismo.\n",
    "\n",
    "### While\n",
    "- El continue hace que no se ejecute lo que esta debajo del mismo, pero vuelve a evaluar la condicion del while\n",
    "- El break termina la ejecucion del ciclo.\n",
    "while True:\n",
    "    value = funcion_super_compleja()\n",
    "        if value and foobar:\n",
    "            continue\n",
    "        elif value:\n",
    "            break\n",
    "    print \"Esto no se ejecuta cuando se ejecuta el continue o el break\""
   ]
  },
  {
   "attachments": {},
   "cell_type": "markdown",
   "metadata": {},
   "source": [
    "## Exceptions\n",
    "- try: todo lo que este dentro del bloque, se va a manejar la excepción\n",
    "- except: se encarga de procesar el tipo de error específico. El Except puede procesar la excepcion o volver a lanzar la misma para que la procese otro. Si nadie la procesa en el punto de entrada del programa, el mismo va a terminar con un error. \n",
    "    - pass: Ignora el error\n",
    "    - raise: lanza una exepcion\n",
    "- finally: se ejecuta ocurra un error o no. Se lo usa mas que nada para cerrar los archivos o la conexión a la base de datos. El finally se ejecuta por mas de que el except tire una excepcion. Siempre se ejecuta el mismo."
   ]
  },
  {
   "cell_type": "code",
   "execution_count": null,
   "metadata": {},
   "outputs": [],
   "source": [
    "f = None\n",
    "try:\n",
    "    f = open('/etc/passwd', 'w')\n",
    "    f.write(\"No ejecutar esto como root\")\n",
    "except FileNotFoundError:\n",
    "    print(\"No se pudo abrir en el archivo\")\n",
    "    raise\n",
    "finally:\n",
    "    if f:\n",
    "        f.close()"
   ]
  },
  {
   "attachments": {},
   "cell_type": "markdown",
   "metadata": {},
   "source": [
    "## Funciones\n",
    "### Definición\n",
    "- No se especifica si devuelve un valor o no\n",
    "- No se especifica el tipo de valores que recibe\n",
    "- No especifica si tira una excepción\n",
    "\n",
    "- Python no permite function overloading. La misma funcion que recibe distinta cantidad de parametros, Para eso generalmente se usan los parametros por default\n",
    "\n",
    "- *args: se puede puede recibir todos los parametros extras que se le pasen a la función en forma **tupla**.\n",
    "- Tambien funciona cuando la función tiene parametros y el *args usa todos los extra\n",
    "\n",
    "- \\**kwargs: como args, pero formato **diccionario**, y se tiene que especificar el nombre de los parametros"
   ]
  },
  {
   "cell_type": "code",
   "execution_count": null,
   "metadata": {},
   "outputs": [],
   "source": [
    "def foobar(a, b, c=3, d=4):\n",
    "    return a + b + c + d\n",
    "\n",
    "print foobar(1, 2)\n",
    "print foobar(1, 2, 3)\n",
    "print foobar(1, 2, 3, 5)\n",
    "print foobar(1, 2, d=8)\n",
    "print foobar(a=1, b=2, c=3, d=10)\n",
    "\n",
    "def promedio(*args):\n",
    "    suma =  sum(args)\n",
    "    cant_elems = 1.0 * len(args)\n",
    "    return suma / cant_elems\n",
    "\n",
    "promedio(1, 2, 3, 4, 5)\n",
    "promedio(1, 2)\n",
    "\n",
    "# Tambien se pueden agregar otros parametros: \n",
    "def promedio(x, y, *args):\n",
    "    print args\n",
    "    suma =  sum(args) + x + y\n",
    "    cant_elems = 2.0 + len(args)\n",
    "    return suma / cant_elems\n",
    "\n",
    "def foobar(x, y, **kwargs):\n",
    "    print x, y\n",
    "    print kwargs\n",
    "\n",
    "foobar(1, 2, z=3, i=4)\n",
    "d = {'foo': 123}\n",
    "foobar(1, 2, **d)"
   ]
  },
  {
   "attachments": {},
   "cell_type": "markdown",
   "metadata": {},
   "source": [
    "### Funciones Utiles\n",
    "- zip: junta todas las listas, y genera una lista de tuplas. Cada tupla va a tener un valor de cada lista\n",
    "- enumerate: devuelve el elemento de la lista que se esta iterando y el indice del mismo\n",
    "- len: calcula la cantidad de elementos que tiene una lista/set/etc.... En el caso de que sea un diccionario, devuelve la cantidad de keys que tiene el mismo\n",
    "- min: calcula el minimo elemento en una lista\n",
    "- max: calcula el maximo\n",
    "- sum: calcula la suma de los elementos de una lista"
   ]
  },
  {
   "cell_type": "code",
   "execution_count": 25,
   "metadata": {},
   "outputs": [
    {
     "name": "stdout",
     "output_type": "stream",
     "text": [
      "1 a +\n",
      "2 b *\n",
      "3 c -\n",
      "4 d /\n"
     ]
    }
   ],
   "source": [
    "l1 = [1, 2, 3, 4]\n",
    "l2 = ['a', 'b', 'c', 'd']\n",
    "l3 = ['+', '*', '-', '/']\n",
    "\n",
    "for num, letra, signo in zip(l1, l2, l3):\n",
    "    print (num, letra, signo)"
   ]
  },
  {
   "attachments": {},
   "cell_type": "markdown",
   "metadata": {},
   "source": [
    "## Generadores\n",
    "Usados para iterables que tiene muchos elementos (pueden tener infinitos). Por ejemplo, generar una lista de millones de elementos.\n",
    "\n",
    "No generan todos los elementos de la lista, sino que los va generando a partir de que se va pidiendo el siguiente elemento del iterador\n",
    "\n",
    "Una función devuelve un generador cuando usa el yield\n",
    "\n",
    "Tiene cosas en común con el iterador de java. Una vez que se llega hasta el final el mismo no se puede volver a usar."
   ]
  },
  {
   "cell_type": "code",
   "execution_count": null,
   "metadata": {},
   "outputs": [],
   "source": [
    "# Dos formas de imprimir objetos, con generador y con lista:\n",
    "l = current_super_list(0, 10000000**10000000):\n",
    "    for x in l:\n",
    "        print x\n",
    "\n",
    "for y in l:\n",
    "    print y\n",
    "\n",
    "# Más performante\n",
    "def create_super_list(min, max):\n",
    "current = min\n",
    "while current < max:\n",
    "    yield current\n",
    "    current += 1\n",
    "\n",
    "li2 = current_super_list(0, 10000000**10000000):\n",
    "for z in li2:\n",
    "    print z"
   ]
  },
  {
   "attachments": {},
   "cell_type": "markdown",
   "metadata": {},
   "source": [
    "## Lambda\n",
    "Funciones especiales que tomas uno o mas parámetro y sólo devuelven un valor\n",
    "- No pueden tener bloques: if, for, while.\n",
    "- Se las usa mucho en las funciones map, reduce, filter\n",
    "\n",
    "lambda argument: manipulate(argument)\n",
    "\n",
    "**map()** is a function which takes two arguments: \n",
    "r = map(func, seq)\n",
    "\n",
    "- The first argument func is the name of a function and the second a sequence (e.g. a list) seq. map() applies the function func to all the elements of the sequence seq\n",
    "\n"
   ]
  },
  {
   "cell_type": "code",
   "execution_count": 16,
   "metadata": {},
   "outputs": [
    {
     "name": "stdout",
     "output_type": "stream",
     "text": [
      "8\n",
      "[(13, -3), (4, 1), (1, 2), (9, 10)]\n",
      "[97.7, 98.60000000000001, 99.5, 100.4, 102.2]\n",
      "[102.56, 97.7, 99.14, 100.4, 100.03999999999999]\n",
      "[36.5, 37.3, 37.8]\n"
     ]
    }
   ],
   "source": [
    "add = lambda x, y: x + y\n",
    "print(add(3, 5))\n",
    "\n",
    "# List sorting\n",
    "a = [(1, 2), (4, 1), (9, 10), (13, -3)]\n",
    "a.sort(key=lambda x: x[1])\n",
    "print(a)\n",
    "\n",
    "# Map function:\n",
    "def fahrenheit(T):\n",
    "    return ((float(9)/5)*T + 32)\n",
    " \n",
    "temperatures = (36.5, 37, 37.5, 38, 39)\n",
    "F = map(fahrenheit, temperatures)\n",
    "temperatures_in_Fahrenheit = list(map(fahrenheit, temperatures))\n",
    "print(temperatures_in_Fahrenheit)\n",
    "\n",
    "# Map using Lambda:\n",
    "C = [39.2, 36.5, 37.3, 38, 37.8] \n",
    "F = list(map(lambda x: (float(9)/5)*x + 32, C))\n",
    "print(F)\n",
    "\n",
    "print (list(filter(lambda val: 0 <= val < 38, C)))"
   ]
  },
  {
   "attachments": {},
   "cell_type": "markdown",
   "metadata": {},
   "source": [
    "## Clases\n",
    "- No es obligatorio en python usar clases\n",
    "- Todos los métodos de la clases tienen que tomar como primer parámetro la instancia de la misma\n",
    "- El __init__ es similar a lo que en otros lenguajes es el constructor\n",
    "- No existen atributos o metodos privados, public o protected. Todo es public. Por convención, todos los metodos o atributos que son privados o protected tienen que empezar con “_”"
   ]
  },
  {
   "cell_type": "code",
   "execution_count": null,
   "metadata": {},
   "outputs": [],
   "source": [
    "class Pepe:\n",
    "    pass\n",
    "\n",
    "class FooBar(Pepe):\n",
    "    def __init__(self, a, b):\n",
    "        super(FooBar, self).__init__()\n",
    "        self._a = a\n",
    "        self._b = b\n",
    "    def sum(self):\n",
    "        return self._a + self._b\n",
    "\n",
    "instance = FooBar(1, 2)\n",
    "print instance.sum()"
   ]
  },
  {
   "attachments": {},
   "cell_type": "markdown",
   "metadata": {},
   "source": [
    "## Magic Methods\n",
    "- Son métodos que empiezan y terminan con “__” (doble guion bajo)\n",
    "- No son llamados explícitamente por nosotros pero si por python cuando se hace cierta funcionalidad\n",
    "- Los mas generales son: __init__, __repr__, __str__, __eq__, __hash__, __enter__, __exit__\n",
    "- lista mas completa: http://www.diveintopython3.net/special-method-names.html\n",
    "\n",
    "- El __hash__ es especialmente importante porque se lo usa para chequear si el elemento ya está en set o diccionario\n",
    "- El __eq__ se lo usa para comparar si dos instancias de la clase son iguales\n",
    "\n",
    "Por default dos objetos NO son iguales. Es decir, sino defino el método __eq__, entonces los objetos van a ser diferentes por mas de que tengan los mismos valores\n",
    "\n",
    "Algo similar pasa con el __hash__. Por default para cada instancia del mismo objeto va a ser diferente, por lo que en un set se van a agregar"
   ]
  },
  {
   "cell_type": "code",
   "execution_count": null,
   "metadata": {},
   "outputs": [],
   "source": [
    "class MyClass(object):\n",
    "    def __init__(self, value):\n",
    "        self.value = value\n",
    "    def __add__(self, other):\n",
    "            return MyClass(self.value + other.value)\n",
    "    def __eq__(self, other):\n",
    "        return (self.x == other.x and self.y == other.y)\n",
    "    def __hash__(self):\n",
    "        return self.x\n",
    "\n",
    "v1 = MyClass(1)\n",
    "v2 = MyClass(2)\n",
    "print (v1 + v2).value\n",
    "# (No se llama v.__add__(v2), sino que directamente se usa el operador “+”, Lo mismo con el __eq__)\n",
    "\n",
    "# Los siguientes ejemplos:\n",
    "# Se encargan de cerrar el file si hubo una excepción o no automáticamente. En caso de que haya una excepción, cierra el file y lanza la excepción\n",
    "# Esta usando el __enter__ y __exit__ de las clases\n",
    "with open('/tmp/mi_archivo.txt') as input_file:\n",
    "    for line in input_file:\n",
    "        print line\n",
    "\n",
    "with open('/etc/passwd', 'w') as output_file:\n",
    "    output_file.write('Foobar')\n",
    "\n",
    "# tambien se puede usar bases de datos \n",
    "with psycopg2.connect(DSN) as conn:\n",
    "    with conn.cursor() as curs:\n",
    "        curs.execute(SQL)\n"
   ]
  },
  {
   "attachments": {},
   "cell_type": "markdown",
   "metadata": {},
   "source": [
    "## Ayuda\n",
    "- dir: dado una variable, lista todos los métodos y atributos que tiene la misma\n",
    "- help: para un método de una variable, muestra el texto de ayuda del mismo. "
   ]
  },
  {
   "cell_type": "code",
   "execution_count": 23,
   "metadata": {},
   "outputs": [
    {
     "name": "stdout",
     "output_type": "stream",
     "text": [
      "Help on built-in function append:\n",
      "\n",
      "append(...) method of builtins.list instance\n",
      "    L.append(object) -> None -- append object to end\n",
      "\n"
     ]
    }
   ],
   "source": [
    "lista = []\n",
    "dir(lista)\n",
    "[name for name in dir(lista) if not name.startswith('__')]\n",
    "help(lista.append)"
   ]
  },
  {
   "attachments": {},
   "cell_type": "markdown",
   "metadata": {},
   "source": [
    "## Concurrencia\n",
    "Python es single core. Todas las opercaciones que usen van a correr en el mismo core del CPU\n",
    "\n",
    "Si se usa threads, los mismos van a correr en el mismo core que esta corriendo el proceso principal. Para solucionar esto es que se usa **multiprocessing** que hace un fork y por lo tanto corre en otro core\n",
    "\n",
    "Las limitaciones de que Python corra en un unico core que deben al GIL (Global Interpreter Lock)"
   ]
  },
  {
   "cell_type": "code",
   "execution_count": 26,
   "metadata": {},
   "outputs": [],
   "source": [
    "from multiprocessing import Process\n",
    "\n",
    "def f(max):\n",
    "    for i in range(0, max):\n",
    "        print(i)\n",
    "\n",
    "if __name__ == 'main':\n",
    "    p = Process(targer=f, args=(100,))\n",
    "    p.start()\n",
    "    p.join()"
   ]
  },
  {
   "attachments": {},
   "cell_type": "markdown",
   "metadata": {},
   "source": [
    "## Logging\n",
    "Se crea un logger. El mismo se puede crear usando un nombre específico, o sino va a usar el nombre del módulo\n",
    "\n",
    "El mismo tiene distintos niveles:\n",
    "    Debug\n",
    "    Info\n",
    "    Warning\n",
    "    Error\n",
    "    Critical\n",
    "\n",
    "El logger puede dirigir el mensaje a un archivo, al standard output, error output, mail, etc...\n",
    "El basic setup permite configurar el logging para que use el standard output o un archivo\n",
    "Se puede ocultar los mensajes que no quieren que logear. Por ahi se lo quiere loguear en development pero no en produccion\n",
    "Puede mandar el output a un archivo o std dependiendo de donde este corriendo\n",
    "Esto hace que no tenga que andar comentando el código para producción."
   ]
  },
  {
   "cell_type": "code",
   "execution_count": null,
   "metadata": {},
   "outputs": [],
   "source": [
    "import logging\n",
    "logging.basicConfig()\n",
    "logger = logging.getLogger()\n",
    "\n",
    "def foo(a, b, c):\n",
    "    res = a + b + c\n",
    "    logger.debug('%s %s %s %s', a, b, c, res)\n",
    "    return res\n",
    "\n",
    "# Loggear dependiendo de donde se este corriendo: \n",
    "import logging\n",
    "import socket\n",
    "\n",
    "if socket.gethostname() == 'AR-IT01119':\n",
    "    logging.basicConfig(level=logging.DEBUG)\n",
    "else:\n",
    "    logging.basicConfig(level=logging.WARNING, filename='/tmp/file.txt')\n",
    "    \n",
    "logger = logging.getLogger()\n",
    "\n",
    "def super_recomplicada(a, b):\n",
    "    logger.debug('Los valores son: %, %', a, b)\n",
    "    if not b:\n",
    "        logger.warning('El valor de a era 0 por lo que no se encuentra un resultado')\n",
    "        return None\n",
    "    return (a - b)\n",
    "\n",
    "# Logging con excepciones\n",
    "def division(a, b):\n",
    "    return a / b\n",
    "    try:\n",
    "        division(1, 0)\n",
    "    except Exception:\n",
    "        logger.exception('Ocurrio un error')\n"
   ]
  },
  {
   "attachments": {},
   "cell_type": "markdown",
   "metadata": {},
   "source": [
    "## Estructuración de proyectos\n",
    "/tmp/foo \n",
    "    setup.py\n",
    "    /src\n",
    "        a.py\n",
    "        /B\n",
    "            foo.py\n",
    "            __init__.py\n",
    "        __init__.py\n",
    "\n",
    "- El nombre de la carpeta SRC no es obligatorio. Muchas veces se le pone el mismo nombre que el proyecto en el que se esta trabajando.\n",
    "- a.py es un modulo, mientras que B es un paquete, y b.py es un modulo del paquete a\n",
    "- Los archivos *.py son modulos\n",
    "- Las carpetas que tenga el archivo __init__.py son paquetes\n",
    "- Para que uno pueda importar los archivos de Python desde otro lado los archivos py no tienen que tener espacios\n",
    "\n",
    "Cuando uno hace import foo, lo que hace python es lo siguiente:\n",
    "- Si la carpeta donde se esta es un paquete (tiene el archivo __init__.py), entonces lo busca ahi.\n",
    "- Si no lo encuentra lo busca en el sys.path\n",
    "\n",
    "### setup.py\n",
    "- Puede listar todas las dependencias del proyecto. (*)\n",
    "- Se lo usa para poner el proyecto dentro de sys.path\n",
    "- Ademas, tiene informacion extra como una descripcion del paquete, developers\n",
    "It describes all of the metadata about your project. There a quite a few fields you can add to a project to give it a rich set of metadata describing the project. However, there are only three required fields: name, version, and packages. The name field must be unique if you wish to publish your package on the Python Package Index (PyPI). The version field keeps track of different releases of the project. The packages field describes where you’ve put the Python source code within your project.\n",
    "\n",
    "\n",
    "### Paquetes comunes\n",
    "- click: para crear comandos de linea de consola y poder parsear los parametros y argumentos\n",
    "- requests: para hacer requests a las paginas web\n",
    "- fabric: para poder conectarse por SSH, y ejecutar cosas desde python\n",
    "- pyquery: para parsear HTML\n",
    "- splinter: para poder controlar el browser desde Python"
   ]
  },
  {
   "cell_type": "code",
   "execution_count": null,
   "metadata": {},
   "outputs": [],
   "source": [
    "# SETUP.PY\n",
    "from distutils.core import setup\n",
    "\n",
    "setup(\n",
    "    name='TowelStuff',\n",
    "    version='0.1dev',\n",
    "    packages=['towelstuff',],\n",
    "    license='Creative Commons Attribution-Noncommercial-Share Alike license',\n",
    "    long_description=open('README.txt').read(),\n",
    ")"
   ]
  },
  {
   "cell_type": "markdown",
   "metadata": {},
   "source": [
    "#### Command line arguments\n",
    "The command line arguments will be stored in the variable sys.argv. The first item in the sys.argv list should always be a string containing the program’s filename ('name.py'), and the second item should be the first command line argument. "
   ]
  },
  {
   "cell_type": "code",
   "execution_count": null,
   "metadata": {},
   "outputs": [],
   "source": [
    "import sys\n",
    "if len(sys.argv) < 2:\n",
    "    print('Usage: python pw.py [account] - copy account password')\n",
    "    sys.exit()\n"
   ]
  }
 ],
 "metadata": {
  "kernelspec": {
   "display_name": "Python 3",
   "language": "python",
   "name": "python3"
  },
  "language_info": {
   "codemirror_mode": {
    "name": "ipython",
    "version": 3
   },
   "file_extension": ".py",
   "mimetype": "text/x-python",
   "name": "python",
   "nbconvert_exporter": "python",
   "pygments_lexer": "ipython3",
   "version": "3.6.5"
  }
 },
 "nbformat": 4,
 "nbformat_minor": 2
}
